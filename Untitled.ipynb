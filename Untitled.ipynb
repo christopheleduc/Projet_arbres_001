{
 "cells": [
  {
   "cell_type": "code",
   "execution_count": 2,
   "metadata": {},
   "outputs": [
    {
     "name": "stdout",
     "output_type": "stream",
     "text": [
      "b'{\"help\": \"http://data.metropolegrenoble.fr/ckan/api/3/action/help_show?name=datastore_search\", \"success\": true, \"result\": {\"resource_id\": \"e4dafba3-7fb8-428c-bbac-91e18de333a8\", \"fields\": [{\"type\": \"int4\", \"id\": \"_id\"}, {\"type\": \"numeric\", \"id\": \"ELEM_POINT_ID\"}, {\"type\": \"text\", \"id\": \"CODE\"}, {\"type\": \"text\", \"id\": \"NOM\"}, {\"type\": \"text\", \"id\": \"GENRE\"}, {\"type\": \"text\", \"id\": \"GENRE_DESC\"}, {\"type\": \"text\", \"id\": \"CATEGORIE\"}, {\"type\": \"text\", \"id\": \"CATEGORIE_DESC\"}, {\"type\": \"text\", \"id\": \"SOUS_CATEGORIE\"}, {\"type\": \"text\", \"id\": \"SOUS_CATEGORIE_DESC\"}, {\"type\": \"text\", \"id\": \"CODE_PARENT\"}, {\"type\": \"text\", \"id\": \"CODE_PARENT_DESC\"}, {\"type\": \"numeric\", \"id\": \"ADR_SECTEUR\"}, {\"type\": \"text\", \"id\": \"BIEN_REFERENCE\"}, {\"type\": \"text\", \"id\": \"GENRE_BOTA\"}, {\"type\": \"text\", \"id\": \"ESPECE\"}, {\"type\": \"text\", \"id\": \"VARIETE\"}, {\"type\": \"text\", \"id\": \"STADEDEDEVELOPPEMENT\"}, {\"type\": \"text\", \"id\": \"EQUIPE\"}, {\"type\": \"text\", \"id\": \"REMARQUES\"}, {\"type\": \"numeric\", \"id\": \"ANNEEDEPLANTATION\"}, {\"type\": \"text\", \"id\": \"RAISONDEPLANTATION\"}, {\"type\": \"text\", \"id\": \"TRAITEMENTCHENILLES\"}, {\"type\": \"text\", \"id\": \"COURRIER\"}, {\"type\": \"text\", \"id\": \"IDENTIFIANTPLU\"}, {\"type\": \"text\", \"id\": \"TYPEIMPLANTATIONPLU\"}, {\"type\": \"text\", \"id\": \"INTITULEPROTECTIONPLU\"}, {\"type\": \"text\", \"id\": \"ANNEEABATTAGE\"}, {\"type\": \"text\", \"id\": \"ESSOUCHEMENT\"}, {\"type\": \"text\", \"id\": \"DIAMETREARBRE\"}, {\"type\": \"text\", \"id\": \"CAUSEABATTAGE\"}, {\"type\": \"text\", \"id\": \"COLLECTIVITE\"}, {\"type\": \"text\", \"id\": \"GeoJSON\"}], \"records\": [{\"ADR_SECTEUR\": \"6\", \"CODE\": \"ESP37969\", \"ESPECE\": \"\", \"SOUS_CATEGORIE_DESC\": \"Arbre d\\'enceintes ferm\\\\u00e9es\", \"TRAITEMENTCHENILLES\": \"\", \"VARIETE\": \"\", \"ANNEEDEPLANTATION\": null, \"SOUS_CATEGORIE\": \"ESP065\", \"ELEM_POINT_ID\": \"37993\", \"CATEGORIE\": \"ESP01\", \"COURRIER\": \"\", \"RAISONDEPLANTATION\": \"\", \"STADEDEDEVELOPPEMENT\": \"\", \"CODE_PARENT\": \"ESP37898\", \"REMARQUES\": \"\", \"EQUIPE\": \"\", \"COLLECTIVITE\": \"\", \"DIAMETREARBRE\": \"\", \"CAUSEABATTAGE\": \"\", \"GENRE_DESC\": \"VEGETATION\", \"ESSOUCHEMENT\": \"\", \"IDENTIFIANTPLU\": \"\", \"GeoJSON\": \"{\\\\\"type\\\\\":\\\\\"Point\\\\\",\\\\\"coordinates\\\\\":[5.76034690089422,45.1543159441061]}\", \"INTITULEPROTECTIONPLU\": \"\", \"CATEGORIE_DESC\": \"Arbre\", \"NOM\": \"ESP37969\", \"BIEN_REFERENCE\": \"AR37969\", \"CODE_PARENT_DESC\": \"Maison des Collines Jard Poisat\", \"GENRE_BOTA\": \"\", \"ANNEEABATTAGE\": \"\", \"TYPEIMPLANTATIONPLU\": \"\", \"GENRE\": \"VEG\", \"_id\": 1}, {\"ADR_SECTEUR\": \"6\", \"CODE\": \"ESP37968\", \"ESPECE\": \"\", \"SOUS_CATEGORIE_DESC\": \"Arbre d\\'enceintes ferm\\\\u00e9es\", \"TRAITEMENTCHENILLES\": \"\", \"VARIETE\": \"\", \"ANNEEDEPLANTATION\": null, \"SOUS_CATEGORIE\": \"ESP065\", \"ELEM_POINT_ID\": \"37992\", \"CATEGORIE\": \"ESP01\", \"COURRIER\": \"\", \"RAISONDEPLANTATION\": \"\", \"STADEDEDEVELOPPEMENT\": \"\", \"CODE_PARENT\": \"ESP37898\", \"REMARQUES\": \"\", \"EQUIPE\": \"\", \"COLLECTIVITE\": \"\", \"DIAMETREARBRE\": \"\", \"CAUSEABATTAGE\": \"\", \"GENRE_DESC\": \"VEGETATION\", \"ESSOUCHEMENT\": \"\", \"IDENTIFIANTPLU\": \"\", \"GeoJSON\": \"{\\\\\"type\\\\\":\\\\\"Point\\\\\",\\\\\"coordinates\\\\\":[5.75982646464411,45.154046459904]}\", \"INTITULEPROTECTIONPLU\": \"\", \"CATEGORIE_DESC\": \"Arbre\", \"NOM\": \"ESP37968\", \"BIEN_REFERENCE\": \"AR37968\", \"CODE_PARENT_DESC\": \"Maison des Collines Jard Poisat\", \"GENRE_BOTA\": \"\", \"ANNEEABATTAGE\": \"\", \"TYPEIMPLANTATIONPLU\": \"\", \"GENRE\": \"VEG\", \"_id\": 2}, {\"ADR_SECTEUR\": \"6\", \"CODE\": \"ESP37967\", \"ESPECE\": \"\", \"SOUS_CATEGORIE_DESC\": \"Arbre d\\'enceintes ferm\\\\u00e9es\", \"TRAITEMENTCHENILLES\": \"\", \"VARIETE\": \"\", \"ANNEEDEPLANTATION\": null, \"SOUS_CATEGORIE\": \"ESP065\", \"ELEM_POINT_ID\": \"37991\", \"CATEGORIE\": \"ESP01\", \"COURRIER\": \"\", \"RAISONDEPLANTATION\": \"\", \"STADEDEDEVELOPPEMENT\": \"\", \"CODE_PARENT\": \"ESP37898\", \"REMARQUES\": \"\", \"EQUIPE\": \"\", \"COLLECTIVITE\": \"\", \"DIAMETREARBRE\": \"\", \"CAUSEABATTAGE\": \"\", \"GENRE_DESC\": \"VEGETATION\", \"ESSOUCHEMENT\": \"\", \"IDENTIFIANTPLU\": \"\", \"GeoJSON\": \"{\\\\\"type\\\\\":\\\\\"Point\\\\\",\\\\\"coordinates\\\\\":[5.75998073144869,45.1540202490699]}\", \"INTITULEPROTECTIONPLU\": \"\", \"CATEGORIE_DESC\": \"Arbre\", \"NOM\": \"ESP37967\", \"BIEN_REFERENCE\": \"AR37967\", \"CODE_PARENT_DESC\": \"Maison des Collines Jard Poisat\", \"GENRE_BOTA\": \"\", \"ANNEEABATTAGE\": \"\", \"TYPEIMPLANTATIONPLU\": \"\", \"GENRE\": \"VEG\", \"_id\": 3}, {\"ADR_SECTEUR\": \"6\", \"CODE\": \"ESP37966\", \"ESPECE\": \"\", \"SOUS_CATEGORIE_DESC\": \"Arbre d\\'enceintes ferm\\\\u00e9es\", \"TRAITEMENTCHENILLES\": \"\", \"VARIETE\": \"\", \"ANNEEDEPLANTATION\": null, \"SOUS_CATEGORIE\": \"ESP065\", \"ELEM_POINT_ID\": \"37990\", \"CATEGORIE\": \"ESP01\", \"COURRIER\": \"\", \"RAISONDEPLANTATION\": \"\", \"STADEDEDEVELOPPEMENT\": \"\", \"CODE_PARENT\": \"ESP37898\", \"REMARQUES\": \"\", \"EQUIPE\": \"\", \"COLLECTIVITE\": \"\", \"DIAMETREARBRE\": \"\", \"CAUSEABATTAGE\": \"\", \"GENRE_DESC\": \"VEGETATION\", \"ESSOUCHEMENT\": \"\", \"IDENTIFIANTPLU\": \"\", \"GeoJSON\": \"{\\\\\"type\\\\\":\\\\\"Point\\\\\",\\\\\"coordinates\\\\\":[5.76005703012677,45.1538601663191]}\", \"INTITULEPROTECTIONPLU\": \"\", \"CATEGORIE_DESC\": \"Arbre\", \"NOM\": \"ESP37966\", \"BIEN_REFERENCE\": \"AR37966\", \"CODE_PARENT_DESC\": \"Maison des Collines Jard Poisat\", \"GENRE_BOTA\": \"\", \"ANNEEABATTAGE\": \"\", \"TYPEIMPLANTATIONPLU\": \"\", \"GENRE\": \"VEG\", \"_id\": 4}, {\"ADR_SECTEUR\": \"6\", \"CODE\": \"ESP37965\", \"ESPECE\": \"\", \"SOUS_CATEGORIE_DESC\": \"Arbre d\\'enceintes ferm\\\\u00e9es\", \"TRAITEMENTCHENILLES\": \"\", \"VARIETE\": \"\", \"ANNEEDEPLANTATION\": null, \"SOUS_CATEGORIE\": \"ESP065\", \"ELEM_POINT_ID\": \"37989\", \"CATEGORIE\": \"ESP01\", \"COURRIER\": \"\", \"RAISONDEPLANTATION\": \"\", \"STADEDEDEVELOPPEMENT\": \"\", \"CODE_PARENT\": \"ESP37898\", \"REMARQUES\": \"\", \"EQUIPE\": \"\", \"COLLECTIVITE\": \"\", \"DIAMETREARBRE\": \"\", \"CAUSEABATTAGE\": \"\", \"GENRE_DESC\": \"VEGETATION\", \"ESSOUCHEMENT\": \"\", \"IDENTIFIANTPLU\": \"\", \"GeoJSON\": \"{\\\\\"type\\\\\":\\\\\"Point\\\\\",\\\\\"coordinates\\\\\":[5.76002027929244,45.1539221005346]}\", \"INTITULEPROTECTIONPLU\": \"\", \"CATEGORIE_DESC\": \"Arbre\", \"NOM\": \"ESP37965\", \"BIEN_REFERENCE\": \"AR37965\", \"CODE_PARENT_DESC\": \"Maison des Collines Jard Poisat\", \"GENRE_BOTA\": \"\", \"ANNEEABATTAGE\": \"\", \"TYPEIMPLANTATIONPLU\": \"\", \"GENRE\": \"VEG\", \"_id\": 5}], \"_links\": {\"start\": \"/api/action/datastore_search?limit=5&resource_id=e4dafba3-7fb8-428c-bbac-91e18de333a8\", \"next\": \"/api/action/datastore_search?offset=5&limit=5&resource_id=e4dafba3-7fb8-428c-bbac-91e18de333a8\"}, \"limit\": 5, \"total\": 31243}}'\n"
     ]
    }
   ],
   "source": [
    "#!/usr/bin/env python\n",
    "# main : Projet arbre\n",
    "# -*- coding: utf-8 -*-\n",
    "\n",
    "# This file is part of Projet Arbre with Python3\n",
    "# See wiki doc for more information\n",
    "# Copyright (C) CryptoDox <cryptodox@cryptodox.net>\n",
    "# This program is published under a GPLv2 license\n",
    "\n",
    "__author__ = \"Christophe LEDUC\"\n",
    "__date__ =  \"16 decembre 2019\"\n",
    "\n",
    "# import urllib\n",
    "import urllib.request\n",
    "\n",
    "# Variables\n",
    "ListArbres = []\n",
    "\n",
    "# url = 'http://data.metropolegrenoble.fr/ckan/api/action/datastore_search?resource_id=e4dafba3-7fb8-428c-bbac-91e18de333a8&limit=5&q=title:jones'\n",
    "url = 'http://data.metropolegrenoble.fr/ckan/api/action/datastore_search?resource_id=e4dafba3-7fb8-428c-bbac-91e18de333a8&limit=5'\n",
    "fileobj = urllib.request.urlopen(url)\n",
    "print (fileobj.read())\n",
    "\n"
   ]
  },
  {
   "cell_type": "code",
   "execution_count": null,
   "metadata": {},
   "outputs": [],
   "source": []
  }
 ],
 "metadata": {
  "kernelspec": {
   "display_name": "Python 3",
   "language": "python",
   "name": "python3"
  },
  "language_info": {
   "codemirror_mode": {
    "name": "ipython",
    "version": 3
   },
   "file_extension": ".py",
   "mimetype": "text/x-python",
   "name": "python",
   "nbconvert_exporter": "python",
   "pygments_lexer": "ipython3",
   "version": "3.7.3"
  }
 },
 "nbformat": 4,
 "nbformat_minor": 2
}
